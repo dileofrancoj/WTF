{
 "cells": [
  {
   "cell_type": "code",
   "execution_count": 1,
   "id": "4e838db0",
   "metadata": {},
   "outputs": [
    {
     "name": "stdout",
     "output_type": "stream",
     "text": [
      "Matriz de transformación T:\n",
      "[[ 0.5  0.  -0.5]\n",
      " [ 0.   1.   0. ]\n",
      " [ 0.  -1.  -1. ]]\n"
     ]
    }
   ],
   "source": [
    "import numpy as np\n",
    "\n",
    "# Matriz de los vectores originales (columnas)\n",
    "A = np.array([\n",
    "    [1, 1, 1],\n",
    "    [0, -1, 1],\n",
    "    [-1, 1, -1]\n",
    "])\n",
    "\n",
    "# Matriz de los vectores transformados (columnas)\n",
    "B = np.array([\n",
    "    [1, 0, 1],\n",
    "    [0, -1, 1],\n",
    "    [1, 0, 0]\n",
    "])\n",
    "\n",
    "# Calcular la inversa de A\n",
    "A_inv = np.linalg.inv(A)\n",
    "\n",
    "# Calcular la matriz de transformación T\n",
    "T = B @ A_inv\n",
    "\n",
    "print(\"Matriz de transformación T:\")\n",
    "print(T)"
   ]
  },
  {
   "cell_type": "code",
   "execution_count": 2,
   "id": "b3c5d317",
   "metadata": {},
   "outputs": [
    {
     "name": "stdout",
     "output_type": "stream",
     "text": [
      "Matriz de rotación aproximada R:\n",
      "[[-0.27493555  0.36814088 -0.88819071]\n",
      " [ 0.76563357  0.64260696  0.02935181]\n",
      " [ 0.58156313 -0.67195877 -0.45853652]]\n",
      "Determinante de R: 1.0000000000000007\n",
      "Ortogonalidad de R (R * R^T):\n",
      " True\n"
     ]
    }
   ],
   "source": [
    "import numpy as np\n",
    "\n",
    "# Matriz T\n",
    "T = np.array([\n",
    "    [0.5,  0.0, -0.5],\n",
    "    [0.0,  1.0,  0.0],\n",
    "    [0.0, -1.0, -1.0]\n",
    "])\n",
    "\n",
    "# Descomposición en valores singulares (SVD)\n",
    "U, _, Vt = np.linalg.svd(T)\n",
    "\n",
    "# Matriz de rotación más cercana\n",
    "R = U @ Vt\n",
    "\n",
    "# Asegurar que el determinante sea 1 (si no lo es, corregir reflexión)\n",
    "if np.linalg.det(R) < 0:\n",
    "    U[:, -1] *= -1\n",
    "    R = U @ Vt\n",
    "\n",
    "print(\"Matriz de rotación aproximada R:\")\n",
    "print(R)\n",
    "\n",
    "# Verificar propiedades de la matriz de rotación\n",
    "print(\"Determinante de R:\", np.linalg.det(R))\n",
    "print(\"Ortogonalidad de R (R * R^T):\\n\", np.allclose(R @ R.T, np.eye(3)))"
   ]
  },
  {
   "cell_type": "code",
   "execution_count": 4,
   "id": "72494991",
   "metadata": {},
   "outputs": [
    {
     "name": "stdout",
     "output_type": "stream",
     "text": [
      "Ángulos de Euler (Z, Y, X): [-126.75316925  -62.64676529 -176.33738364]\n"
     ]
    }
   ],
   "source": [
    "import numpy as np\n",
    "from scipy.spatial.transform import Rotation as R\n",
    "\n",
    "# Matriz de rotación aproximada\n",
    "R_approx = np.array([\n",
    "    [-0.27493555,  0.36814088, -0.88819071],\n",
    "    [ 0.76563357,  0.64260696,  0.02935181],\n",
    "    [ 0.58156313, -0.67195877, -0.45853652]\n",
    "])\n",
    "\n",
    "# Convertir a ángulos de Euler (convención ZYX, en grados)\n",
    "rotation = R.from_matrix(R_approx)\n",
    "euler_angles = rotation.as_euler('zyx', degrees=True)\n",
    "\n",
    "print(\"Ángulos de Euler (Z, Y, X):\", euler_angles)"
   ]
  },
  {
   "cell_type": "code",
   "execution_count": 6,
   "id": "18067702",
   "metadata": {},
   "outputs": [
    {
     "name": "stdout",
     "output_type": "stream",
     "text": [
      "Mejor secuencia de movimientos: ('R', 'R', 'R')\n",
      "Error asociado: 1.3323957376627875\n"
     ]
    }
   ],
   "source": [
    "import numpy as np\n",
    "from itertools import product\n",
    "from scipy.spatial.transform import Rotation as R\n",
    "\n",
    "# Matrices de rotación básicas para el Rubik\n",
    "rot_U = np.array([\n",
    "    [0, -1, 0],\n",
    "    [1,  0, 0],\n",
    "    [0,  0, 1]\n",
    "])\n",
    "rot_F = np.array([\n",
    "    [1,  0,  0],\n",
    "    [0,  0, -1],\n",
    "    [0,  1,  0]\n",
    "])\n",
    "rot_R = np.array([\n",
    "    [0,  0, 1],\n",
    "    [0,  1, 0],\n",
    "    [-1, 0, 0]\n",
    "])\n",
    "\n",
    "# Generar rotaciones para movimientos (90, 180, 270 grados)\n",
    "def generate_rotations(base_rot):\n",
    "    return [\n",
    "        base_rot,                # 90 grados\n",
    "        np.linalg.matrix_power(base_rot, 2),  # 180 grados\n",
    "        np.linalg.matrix_power(base_rot, 3)   # 270 grados\n",
    "    ]\n",
    "\n",
    "# Todas las rotaciones posibles\n",
    "rotations = {\n",
    "    'U': generate_rotations(rot_U),\n",
    "    'F': generate_rotations(rot_F),\n",
    "    'R': generate_rotations(rot_R)\n",
    "}\n",
    "\n",
    "# Matriz objetivo\n",
    "R_target = np.array([\n",
    "    [-0.27493555,  0.36814088, -0.88819071],\n",
    "    [ 0.76563357,  0.64260696,  0.02935181],\n",
    "    [ 0.58156313, -0.67195877, -0.45853652]\n",
    "])\n",
    "\n",
    "# Buscar la mejor combinación de movimientos\n",
    "best_sequence = None\n",
    "best_error = float('inf')\n",
    "\n",
    "# Iterar sobre todas las combinaciones posibles de 3 movimientos (U, F, R)\n",
    "moves = ['U', 'F', 'R']\n",
    "for sequence in product(moves, repeat=3):\n",
    "    # Comenzar con la matriz identidad\n",
    "    current_matrix = np.eye(3)\n",
    "    \n",
    "    # Aplicar las rotaciones en la secuencia\n",
    "    for move in sequence:\n",
    "        current_matrix = current_matrix @ rotations[move][0]  # Solo probar 90 grados por simplicidad\n",
    "\n",
    "    # Calcular el error (norma Frobenius)\n",
    "    error = np.linalg.norm(current_matrix - R_target)\n",
    "\n",
    "    # Actualizar si encontramos una mejor secuencia\n",
    "    if error < best_error:\n",
    "        best_error = error\n",
    "        best_sequence = sequence\n",
    "\n",
    "# Imprimir el resultado\n",
    "print(\"Mejor secuencia de movimientos:\", best_sequence)\n",
    "print(\"Error asociado:\", best_error)\n"
   ]
  },
  {
   "cell_type": "code",
   "execution_count": null,
   "id": "3065fa04",
   "metadata": {},
   "outputs": [],
   "source": []
  }
 ],
 "metadata": {
  "kernelspec": {
   "display_name": "Python 3 (ipykernel)",
   "language": "python",
   "name": "python3"
  },
  "language_info": {
   "codemirror_mode": {
    "name": "ipython",
    "version": 3
   },
   "file_extension": ".py",
   "mimetype": "text/x-python",
   "name": "python",
   "nbconvert_exporter": "python",
   "pygments_lexer": "ipython3",
   "version": "3.10.11"
  }
 },
 "nbformat": 4,
 "nbformat_minor": 5
}
