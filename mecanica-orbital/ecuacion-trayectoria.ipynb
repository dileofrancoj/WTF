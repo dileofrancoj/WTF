{
 "cells": [
  {
   "cell_type": "code",
   "execution_count": 39,
   "id": "809c8828-fd54-4df0-a8b7-7636b6576ad5",
   "metadata": {},
   "outputs": [
    {
     "data": {
      "text/latex": [
       "$\\displaystyle \\frac{h^{2}}{G M + h^{2} \\left(C_{1} \\sin{\\left(\\theta \\right)} + C_{2} \\cos{\\left(\\theta \\right)}\\right)}$"
      ],
      "text/plain": [
       "h**2/(G*M + h**2*(C1*sin(theta) + C2*cos(theta)))"
      ]
     },
     "execution_count": 39,
     "metadata": {},
     "output_type": "execute_result"
    }
   ],
   "source": [
    "import sympy as smp\n",
    "\n",
    "# Variables simbólicas\n",
    "theta, C1, e , p= smp.symbols('theta C1 e p')\n",
    "phi = smp.symbols('phi')\n",
    "G, M, h = smp.symbols('G M h', positive=True)\n",
    "u = smp.Function('u')(theta)\n",
    "\n",
    "# EDO: u'' + u = GM / h^2\n",
    "edo = smp.Eq(u.diff(theta, 2) + u, G*M/h**2)\n",
    "\n",
    "# Resolver la ecuación diferencial\n",
    "sol = smp.dsolve(edo, u)\n",
    "\n",
    "# Simplificar: solución general con C1 y C2\n",
    "u_theta = sol.rhs\n",
    "r_theta = smp.simplify(1 / u_theta)\n",
    "r_theta"
   ]
  },
  {
   "cell_type": "code",
   "execution_count": 43,
   "id": "47a5692d-bc17-4588-a456-6c89e93ba8a9",
   "metadata": {},
   "outputs": [
    {
     "data": {
      "text/latex": [
       "$\\displaystyle C_{1} \\sin{\\left(\\theta \\right)} + C_{2} \\cos{\\left(\\theta \\right)} + \\frac{G M}{h^{2}}$"
      ],
      "text/plain": [
       "C1*sin(theta) + C2*cos(theta) + G*M/h**2"
      ]
     },
     "execution_count": 43,
     "metadata": {},
     "output_type": "execute_result"
    }
   ],
   "source": [
    "u_theta"
   ]
  },
  {
   "cell_type": "markdown",
   "id": "808e9280-f19a-49d2-b3c8-7b6f9d9014b9",
   "metadata": {},
   "source": [
    "No debemos olvidar que el seno y el coseno son la misma función solo que desfazadas un angulo"
   ]
  },
  {
   "cell_type": "code",
   "execution_count": 17,
   "id": "27e598fb-6106-4c63-9f31-8a9528d554af",
   "metadata": {},
   "outputs": [],
   "source": [
    "r_t = h**2 / (G*M + C1*smp.cos(theta - phi))"
   ]
  },
  {
   "cell_type": "code",
   "execution_count": 12,
   "id": "d22a2b7a-8477-4803-89b2-35f891ff848c",
   "metadata": {},
   "outputs": [
    {
     "data": {
      "text/latex": [
       "$\\displaystyle \\frac{h^{2}}{C_{1} \\cos{\\left(\\phi + \\theta \\right)} + G M}$"
      ],
      "text/plain": [
       "h**2/(C1*cos(phi + theta) + G*M)"
      ]
     },
     "execution_count": 12,
     "metadata": {},
     "output_type": "execute_result"
    }
   ],
   "source": [
    "r_t"
   ]
  },
  {
   "cell_type": "markdown",
   "id": "ab6ac1f0-28c7-47b0-bbe7-789d5b21c68d",
   "metadata": {},
   "source": [
    "Si tomamos phi = 0"
   ]
  },
  {
   "cell_type": "code",
   "execution_count": 30,
   "id": "dcc040a6-bfc3-43bc-bea1-4b21f230e55e",
   "metadata": {},
   "outputs": [],
   "source": [
    "r_t = h**2 / (G*M + C1*smp.cos(theta))"
   ]
  },
  {
   "cell_type": "code",
   "execution_count": 33,
   "id": "664f5ed4-6043-4280-bc4b-b5fcd3dbfddf",
   "metadata": {},
   "outputs": [],
   "source": [
    "r_t = (h**2/(G*M)) / (1+ (C1/(G*M))*smp.cos(theta))"
   ]
  },
  {
   "cell_type": "code",
   "execution_count": 37,
   "id": "017edf22-4314-464d-8d30-d74a697b344a",
   "metadata": {},
   "outputs": [],
   "source": [
    "r_t = p / (1+ e*smp.cos(theta))"
   ]
  },
  {
   "cell_type": "code",
   "execution_count": 38,
   "id": "0b03a618-63e7-41ff-8b9a-78da3d1a8a71",
   "metadata": {},
   "outputs": [
    {
     "data": {
      "text/latex": [
       "$\\displaystyle \\frac{p}{e \\cos{\\left(\\theta \\right)} + 1}$"
      ],
      "text/plain": [
       "p/(e*cos(theta) + 1)"
      ]
     },
     "execution_count": 38,
     "metadata": {},
     "output_type": "execute_result"
    }
   ],
   "source": [
    "r_t"
   ]
  }
 ],
 "metadata": {
  "kernelspec": {
   "display_name": "Python 3 (ipykernel)",
   "language": "python",
   "name": "python3"
  },
  "language_info": {
   "codemirror_mode": {
    "name": "ipython",
    "version": 3
   },
   "file_extension": ".py",
   "mimetype": "text/x-python",
   "name": "python",
   "nbconvert_exporter": "python",
   "pygments_lexer": "ipython3",
   "version": "3.9.6"
  }
 },
 "nbformat": 4,
 "nbformat_minor": 5
}
