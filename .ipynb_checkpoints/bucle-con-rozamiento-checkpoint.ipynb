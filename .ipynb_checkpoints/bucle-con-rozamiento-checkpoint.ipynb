{
 "cells": [
  {
   "cell_type": "markdown",
   "id": "a6669c90-72d0-4958-a65e-e2d63f499c1e",
   "metadata": {},
   "source": [
    "Para abordar el problema del bucle con rozamiento plantearemos la ecuación que determina su movimiento. Haciendo el diagrama de cuerpo libre  en coordenadas cartesianas vemos que para la componente tangencial\n",
    "\n",
    "$\n",
    "    -F_r - mg\\sin\\theta = ma_{\\tau}\n",
    "$\n",
    "\n",
    "Y para la radial tenemos:\n",
    "\n",
    "$\n",
    "N -mg\\cos\\theta = m\\frac{v^2(\\theta)}{R}\n",
    "$\n",
    "\n",
    "Despejamos la Normal que dependerá del angulo $N(\\theta)$\n",
    "\n",
    "$N(\\theta) = m\\frac{v(\\theta)^2}{R} + mg\\cos\\theta$\n",
    "\n",
    "Reemplazando en la ecuación de aceleración tangencial:\n",
    "\n",
    "$\n",
    "- \\mu N(\\theta) - mg\\sin(\\theta) = m\\frac{dv}{dt}\n",
    "$\n",
    "\n",
    "$\n",
    "- \\mu [m\\frac{v(\\theta)^2}{R} + mg \\cos\\theta] - mg \\sin(\\theta) = m\\frac{dv}{dt}\n",
    "$\n",
    "\n",
    "Una solución posible para esta ecuación diferencial es hacer un cambio de variable:\n",
    "$u(\\theta) = v^2(\\theta) \\implies dv = \\frac{du}{2v} $  \n",
    "\n",
    "$\n",
    "- \\mu [m\\frac{v(\\theta)^2}{R} + mg \\cos\\theta] - mg \\sin(\\theta) = m\\frac{dv}{d\\theta}\\frac{d\\theta}{dt}\n",
    "$\n",
    "\n",
    "$\n",
    "- \\mu [m\\frac{v(\\theta)^2}{R} + mg \\cos\\theta] - mg \\sin(\\theta) = m\\frac{dv}{d\\theta}\\omega\n",
    "$\n",
    "\n",
    "$\n",
    "- \\mu [m\\frac{u}{R} + mg \\cos\\theta] - mg \\sin(\\theta) = m\\frac{du}{2d\\theta v}\\frac{v}{R}\n",
    "$\n",
    "\n",
    "$\n",
    "- \\mu [m\\frac{u}{R} + mg \\cos\\theta] - mg \\sin(\\theta) = m\\frac{du}{2d\\theta R}\n",
    "$\n",
    "\n",
    "Simplificando la masa \"m\" y multiplicando por \"R\"\n",
    "\n",
    "$\n",
    "- 2[\\mu R (\\frac{u}{R} + g \\cos\\theta) - gR\\sin(\\theta)] = \\frac{du}{d\\theta}\n",
    "$\n",
    "\n",
    "$\n",
    "-2\\mu u - 2gR \\cos\\theta  - 2gR \\sin(\\theta) = \\frac{du}{d\\theta}\n",
    "$\n",
    "\n",
    "$\n",
    "- 2gR (\\mu \\cos\\theta  -  \\sin(\\theta) = \\frac{du}{d\\theta} + 2\\mu u\n",
    "$"
   ]
  },
  {
   "cell_type": "code",
   "execution_count": null,
   "id": "fc3564e1-8e0b-43db-87a4-baf8cbe8e0d2",
   "metadata": {},
   "outputs": [],
   "source": [
    "import sympy as smp\n",
    "import math\n",
    "v, mu, R, g, th, v_0, pi, C1= smp.symbols('v mu R g theta v_0, pi C1')\n",
    "u = smp.Function('u')\n",
    "u(th).diff(th)"
   ]
  },
  {
   "cell_type": "code",
   "execution_count": 146,
   "id": "76243c96-af07-40ee-8a01-72b4036a952d",
   "metadata": {},
   "outputs": [],
   "source": [
    "f = -2*mu*u(th) - 2*g*R*(smp.sin(th) + mu*smp.cos(th))"
   ]
  },
  {
   "cell_type": "code",
   "execution_count": 147,
   "id": "a39dc985-a92d-4e4d-8696-51a276bfc916",
   "metadata": {},
   "outputs": [],
   "source": [
    "eq = smp.Eq(u(th).diff(th), f)"
   ]
  },
  {
   "cell_type": "code",
   "execution_count": 148,
   "id": "577fa1b9-c115-4bf6-8805-882996e5a936",
   "metadata": {},
   "outputs": [],
   "source": [
    "sol = smp.dsolve(eq)"
   ]
  },
  {
   "cell_type": "code",
   "execution_count": 149,
   "id": "43bc2a26-7ebe-4821-92c4-a16de1e3c264",
   "metadata": {},
   "outputs": [],
   "source": [
    "ics = {u(0): v_0**2}"
   ]
  },
  {
   "cell_type": "code",
   "execution_count": 150,
   "id": "03a47a07-3a0a-489e-8f51-9b99900dc29b",
   "metadata": {},
   "outputs": [],
   "source": [
    "sol_part = smp.dsolve(eq,ics=ics)"
   ]
  },
  {
   "cell_type": "code",
   "execution_count": 153,
   "id": "336e24a6-36a8-4425-94b3-91814d9a3f82",
   "metadata": {},
   "outputs": [
    {
     "data": {
      "text/latex": [
       "$\\displaystyle u{\\left(\\theta \\right)} = - \\frac{4 R g \\mu^{2} \\cos{\\left(\\theta \\right)}}{4 \\mu^{2} + 1} - \\frac{6 R g \\mu \\sin{\\left(\\theta \\right)}}{4 \\mu^{2} + 1} + \\frac{2 R g \\cos{\\left(\\theta \\right)}}{4 \\mu^{2} + 1} + \\frac{\\left(4 R g \\mu^{2} - 2 R g + 4 \\mu^{2} v_{0}^{2} + v_{0}^{2}\\right) e^{- 2 \\mu \\theta}}{4 \\mu^{2} + 1}$"
      ],
      "text/plain": [
       "Eq(u(theta), -4*R*g*mu**2*cos(theta)/(4*mu**2 + 1) - 6*R*g*mu*sin(theta)/(4*mu**2 + 1) + 2*R*g*cos(theta)/(4*mu**2 + 1) + (4*R*g*mu**2 - 2*R*g + 4*mu**2*v_0**2 + v_0**2)*exp(-2*mu*theta)/(4*mu**2 + 1))"
      ]
     },
     "execution_count": 153,
     "metadata": {},
     "output_type": "execute_result"
    }
   ],
   "source": [
    "sol_part"
   ]
  },
  {
   "cell_type": "code",
   "execution_count": 183,
   "id": "094cba33-b3f4-4c4c-9deb-299c47515faa",
   "metadata": {},
   "outputs": [
    {
     "data": {
      "text/latex": [
       "$\\displaystyle \\frac{4 R g \\mu^{2}}{4 \\mu^{2} + 1} - \\frac{2 R g}{4 \\mu^{2} + 1} + \\frac{\\left(4 R g \\mu^{2} - 2 R g + 4 \\mu^{2} v_{0}^{2} + v_{0}^{2}\\right) e^{- 2 \\pi \\mu}}{4 \\mu^{2} + 1}$"
      ],
      "text/plain": [
       "4*R*g*mu**2/(4*mu**2 + 1) - 2*R*g/(4*mu**2 + 1) + (4*R*g*mu**2 - 2*R*g + 4*mu**2*v_0**2 + v_0**2)*exp(-2*pi*mu)/(4*mu**2 + 1)"
      ]
     },
     "execution_count": 183,
     "metadata": {},
     "output_type": "execute_result"
    }
   ],
   "source": [
    "theta_val = smp.pi  # 180 grados en radianes\n",
    "\n",
    "# Obtenemos la expresión de la solución\n",
    "expr = sol_part.rhs  # accede al lado derecho de la solución particular\n",
    "\n",
    "# Evaluamos la expresión en theta = pi\n",
    "evaluated_expr = expr.subs(th, theta_val)\n",
    "# u = v^2 y es igual a evaluated_expr\n",
    "evaluated_expr"
   ]
  },
  {
   "cell_type": "markdown",
   "id": "5b96a1d1-14c7-4787-8994-6e54fc450779",
   "metadata": {},
   "source": [
    "Siento que en este punto la solución no es correcta. Revisar"
   ]
  },
  {
   "cell_type": "code",
   "execution_count": 176,
   "id": "52cf3d59-21a6-4a1f-b9c5-1e98733f3e5e",
   "metadata": {},
   "outputs": [
    {
     "data": {
      "text/latex": [
       "$\\displaystyle \\frac{4 R g \\mu^{2}}{4 \\mu^{2} + 1} - \\frac{2 R g}{4 \\mu^{2} + 1} + \\frac{\\left(4 R g \\mu^{2} - 2 R g + 4 \\mu^{2} v_{0}^{2} + v_{0}^{2}\\right) e^{- 2 \\pi \\mu}}{4 \\mu^{2} + 1} = 0$"
      ],
      "text/plain": [
       "Eq(4*R*g*mu**2/(4*mu**2 + 1) - 2*R*g/(4*mu**2 + 1) + (4*R*g*mu**2 - 2*R*g + 4*mu**2*v_0**2 + v_0**2)*exp(-2*pi*mu)/(4*mu**2 + 1), 0)"
      ]
     },
     "execution_count": 176,
     "metadata": {},
     "output_type": "execute_result"
    }
   ],
   "source": [
    "# Denominador común\n",
    "den = 4*mu**2 + 1\n",
    "\n",
    "# Numeradores individuales\n",
    "term1 = 4*R*g*mu**2 / den\n",
    "term2 = -2*R*g / den\n",
    "term3 = ((4*R*g*mu**2 - 2*R*g + 4*mu**2*v_0**2 + v_0**2) * smp.exp(-2*smp.pi*mu)) / den\n",
    "\n",
    "# Expresión total\n",
    "expr = term1 + term2 + term3\n",
    "\n",
    "# Igualamos a 0\n",
    "eq = smp.Eq(expr, 0)\n",
    "eq\n"
   ]
  },
  {
   "cell_type": "code",
   "execution_count": 177,
   "id": "1c01df53-5b0b-48dc-8e29-334e9e29d176",
   "metadata": {},
   "outputs": [],
   "source": [
    "eq_simplified = smp.Eq(smp.simplify((term1 + term2 + term3) * den), 0)\n",
    "\n",
    "# Resolvemos para v_0\n",
    "sols = smp.solve(eq_simplified, v_0)"
   ]
  },
  {
   "cell_type": "code",
   "execution_count": 181,
   "id": "896a83fe-28f5-4db7-b98c-0811151646ea",
   "metadata": {},
   "outputs": [
    {
     "data": {
      "text/latex": [
       "$\\displaystyle \\sqrt{2} \\sqrt{- \\frac{R g \\left(2 \\mu^{2} - 1\\right) \\left(e^{2 \\pi \\mu} + 1\\right)}{4 \\mu^{2} + 1}}$"
      ],
      "text/plain": [
       "sqrt(2)*sqrt(-R*g*(2*mu**2 - 1)*(exp(2*pi*mu) + 1)/(4*mu**2 + 1))"
      ]
     },
     "execution_count": 181,
     "metadata": {},
     "output_type": "execute_result"
    }
   ],
   "source": [
    "sols[1]"
   ]
  },
  {
   "cell_type": "code",
   "execution_count": null,
   "id": "b9c82c34-6ad0-4dd4-8e51-105a27a86bc4",
   "metadata": {},
   "outputs": [],
   "source": []
  }
 ],
 "metadata": {
  "kernelspec": {
   "display_name": "Python 3 (ipykernel)",
   "language": "python",
   "name": "python3"
  },
  "language_info": {
   "codemirror_mode": {
    "name": "ipython",
    "version": 3
   },
   "file_extension": ".py",
   "mimetype": "text/x-python",
   "name": "python",
   "nbconvert_exporter": "python",
   "pygments_lexer": "ipython3",
   "version": "3.9.6"
  }
 },
 "nbformat": 4,
 "nbformat_minor": 5
}
