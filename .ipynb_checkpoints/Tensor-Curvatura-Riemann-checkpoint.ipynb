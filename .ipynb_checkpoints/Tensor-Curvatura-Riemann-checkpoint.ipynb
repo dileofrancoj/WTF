{
 "cells": [
  {
   "cell_type": "code",
   "execution_count": 91,
   "id": "291e6db0",
   "metadata": {},
   "outputs": [],
   "source": [
    "import sympy\n",
    "from einsteinpy.symbolic import MetricTensor, ChristoffelSymbols, RiemannCurvatureTensor, RicciTensor, RicciScalar, EinsteinTensor, Schwarzschild\n",
    "import scipy\n",
    "from sympy import symbols, sin, simplify\n",
    "import sympy as sp\n",
    "\n",
    "from einsteinpy.symbolic.predefined import DeSitter, AntiDeSitter, Minkowski, find\n",
    "\n",
    "sympy.init_printing()"
   ]
  },
  {
   "cell_type": "markdown",
   "id": "1064717c",
   "metadata": {},
   "source": [
    "Documentación: \n",
    "\n",
    "https://docs.einsteinpy.org/en/latest/examples/Symbolically%20Understanding%20Christoffel%20Symbol%20and%20Riemann%20Curvature%20Tensor%20using%20EinsteinPy.htmlDocumentación: "
   ]
  },
  {
   "cell_type": "code",
   "execution_count": 90,
   "id": "49cd4058",
   "metadata": {},
   "outputs": [],
   "source": [
    "m = Schwarzschild()"
   ]
  },
  {
   "cell_type": "code",
   "execution_count": 19,
   "id": "0fe0cdda",
   "metadata": {},
   "outputs": [
    {
     "data": {
      "text/latex": [
       "$\\displaystyle \\left[\\begin{matrix}- c^{2} e^{2 T{\\left(r \\right)}} & 0 & 0 & 0\\\\0 & e^{2 R{\\left(r \\right)}} & 0 & 0\\\\0 & 0 & r^{2} & 0\\\\0 & 0 & 0 & r^{2} \\sin^{2}{\\left(\\theta \\right)}\\end{matrix}\\right]$"
      ],
      "text/plain": [
       "⎡  2  2⋅T(r)                         ⎤\n",
       "⎢-c ⋅ℯ           0     0       0     ⎥\n",
       "⎢                                    ⎥\n",
       "⎢              2⋅R(r)                ⎥\n",
       "⎢     0       ℯ        0       0     ⎥\n",
       "⎢                                    ⎥\n",
       "⎢                       2            ⎥\n",
       "⎢     0          0     r       0     ⎥\n",
       "⎢                                    ⎥\n",
       "⎢                           2    2   ⎥\n",
       "⎣     0          0     0   r ⋅sin (θ)⎦"
      ]
     },
     "execution_count": 19,
     "metadata": {},
     "output_type": "execute_result"
    }
   ],
   "source": [
    "c = sympy.symbols('c')\n",
    "t, r, theta, phi = sympy.symbols('t r theta phi')\n",
    "\n",
    "# Definir las funciones T(r) y R(r)\n",
    "T = sympy.Function('T')(r)\n",
    "R = sympy.Function('R')(r)\n",
    "\n",
    "# Definir la métrica\n",
    "metric = [\n",
    "    [-c**2 * sympy.exp(2*T), 0, 0, 0], \n",
    "    [0, sympy.exp(2*R), 0, 0],\n",
    "    [0, 0, r**2, 0],\n",
    "    [0, 0, 0, r**2 * sympy.sin(theta)**2]\n",
    "]\n",
    "\n",
    "# Crear objeto MetricTensor\n",
    "syms = [t, r, theta, phi]\n",
    "m_obj = MetricTensor(metric, syms)\n",
    "\n",
    "# Mostrar la métrica\n",
    "m_obj.tensor()"
   ]
  },
  {
   "cell_type": "code",
   "execution_count": 20,
   "id": "87d5c444",
   "metadata": {},
   "outputs": [
    {
     "data": {
      "text/latex": [
       "$\\displaystyle \\left[\\begin{matrix}\\left[\\begin{matrix}0 & \\frac{d}{d r} T{\\left(r \\right)} & 0 & 0\\\\\\frac{d}{d r} T{\\left(r \\right)} & 0 & 0 & 0\\\\0 & 0 & 0 & 0\\\\0 & 0 & 0 & 0\\end{matrix}\\right] & \\left[\\begin{matrix}c^{2} e^{- 2 R{\\left(r \\right)}} e^{2 T{\\left(r \\right)}} \\frac{d}{d r} T{\\left(r \\right)} & 0 & 0 & 0\\\\0 & \\frac{d}{d r} R{\\left(r \\right)} & 0 & 0\\\\0 & 0 & - r e^{- 2 R{\\left(r \\right)}} & 0\\\\0 & 0 & 0 & - r e^{- 2 R{\\left(r \\right)}} \\sin^{2}{\\left(\\theta \\right)}\\end{matrix}\\right] & \\left[\\begin{matrix}0 & 0 & 0 & 0\\\\0 & 0 & \\frac{1}{r} & 0\\\\0 & \\frac{1}{r} & 0 & 0\\\\0 & 0 & 0 & - \\sin{\\left(\\theta \\right)} \\cos{\\left(\\theta \\right)}\\end{matrix}\\right] & \\left[\\begin{matrix}0 & 0 & 0 & 0\\\\0 & 0 & 0 & \\frac{1}{r}\\\\0 & 0 & 0 & \\frac{\\cos{\\left(\\theta \\right)}}{\\sin{\\left(\\theta \\right)}}\\\\0 & \\frac{1}{r} & \\frac{\\cos{\\left(\\theta \\right)}}{\\sin{\\left(\\theta \\right)}} & 0\\end{matrix}\\right]\\end{matrix}\\right]$"
      ],
      "text/plain": [
       "⎡                            ⎡ 2  -2⋅R(r)  2⋅T(r) d         \n",
       "⎢⎡          d             ⎤  ⎢c ⋅ℯ       ⋅ℯ      ⋅──(T(r))  \n",
       "⎢⎢   0      ──(T(r))  0  0⎥  ⎢                    dr        \n",
       "⎢⎢          dr            ⎥  ⎢                              \n",
       "⎢⎢                        ⎥  ⎢                              \n",
       "⎢⎢d                       ⎥  ⎢             0                \n",
       "⎢⎢──(T(r))     0      0  0⎥  ⎢                              \n",
       "⎢⎢dr                      ⎥  ⎢                              \n",
       "⎢⎢                        ⎥  ⎢                              \n",
       "⎢⎢   0         0      0  0⎥  ⎢             0                \n",
       "⎢⎢                        ⎥  ⎢                              \n",
       "⎢⎣   0         0      0  0⎦  ⎢                              \n",
       "⎣                            ⎣             0                \n",
       "\n",
       "                                          ⎤                 \n",
       "   0           0                0         ⎥  ⎡0  0  0       \n",
       "                                          ⎥  ⎢              \n",
       "                                          ⎥  ⎢      1       \n",
       "d                                         ⎥  ⎢0  0  ─       \n",
       "──(R(r))       0                0         ⎥  ⎢      r       \n",
       "dr                                        ⎥  ⎢              \n",
       "                                          ⎥  ⎢   1          \n",
       "              -2⋅R(r)                     ⎥  ⎢0  ─  0       \n",
       "   0      -r⋅ℯ                  0         ⎥  ⎢   r          \n",
       "                                          ⎥  ⎢              \n",
       "                           -2⋅R(r)    2   ⎥  ⎣0  0  0  -sin(\n",
       "   0           0       -r⋅ℯ       ⋅sin (θ)⎦                 \n",
       "\n",
       "            ⎡0  0    0       0   ⎤⎤\n",
       " 0       ⎤  ⎢                    ⎥⎥\n",
       "         ⎥  ⎢                1   ⎥⎥\n",
       "         ⎥  ⎢0  0    0       ─   ⎥⎥\n",
       " 0       ⎥  ⎢                r   ⎥⎥\n",
       "         ⎥  ⎢                    ⎥⎥\n",
       "         ⎥  ⎢              cos(θ)⎥⎥\n",
       "         ⎥  ⎢0  0    0     ──────⎥⎥\n",
       " 0       ⎥  ⎢              sin(θ)⎥⎥\n",
       "         ⎥  ⎢                    ⎥⎥\n",
       "         ⎥  ⎢   1  cos(θ)        ⎥⎥\n",
       "θ)⋅cos(θ)⎦  ⎢0  ─  ──────    0   ⎥⎥\n",
       "            ⎣   r  sin(θ)        ⎦⎦"
      ]
     },
     "execution_count": 20,
     "metadata": {},
     "output_type": "execute_result"
    }
   ],
   "source": [
    "ch = ChristoffelSymbols.from_metric(m_obj)\n",
    "ch.tensor()"
   ]
  },
  {
   "cell_type": "code",
   "execution_count": 29,
   "id": "556df4cb",
   "metadata": {},
   "outputs": [
    {
     "data": {
      "text/latex": [
       "$\\displaystyle \\left[\\begin{matrix}\\frac{c^{2} \\left(- r \\frac{d}{d r} R{\\left(r \\right)} \\frac{d}{d r} T{\\left(r \\right)} + r \\left(\\frac{d}{d r} T{\\left(r \\right)}\\right)^{2} + r \\frac{d^{2}}{d r^{2}} T{\\left(r \\right)} + 2 \\frac{d}{d r} T{\\left(r \\right)}\\right) e^{- 2 R{\\left(r \\right)} + 2 T{\\left(r \\right)}}}{r} & 0 & 0 & 0\\\\0 & \\frac{d}{d r} R{\\left(r \\right)} \\frac{d}{d r} T{\\left(r \\right)} - \\left(\\frac{d}{d r} T{\\left(r \\right)}\\right)^{2} - \\frac{d^{2}}{d r^{2}} T{\\left(r \\right)} + \\frac{2 \\frac{d}{d r} R{\\left(r \\right)}}{r} & 0 & 0\\\\0 & 0 & \\left(r \\frac{d}{d r} R{\\left(r \\right)} - r \\frac{d}{d r} T{\\left(r \\right)} + e^{2 R{\\left(r \\right)}} - 1\\right) e^{- 2 R{\\left(r \\right)}} & 0\\\\0 & 0 & 0 & \\left(r \\frac{d}{d r} R{\\left(r \\right)} - r \\frac{d}{d r} T{\\left(r \\right)} + e^{2 R{\\left(r \\right)}} - 1\\right) e^{- 2 R{\\left(r \\right)}} \\sin^{2}{\\left(\\theta \\right)}\\end{matrix}\\right]$"
      ],
      "text/plain": [
       "⎡   ⎛                                    2       2          \n",
       "⎢ 2 ⎜    d        d            ⎛d       ⎞       d           \n",
       "⎢c ⋅⎜- r⋅──(R(r))⋅──(T(r)) + r⋅⎜──(T(r))⎟  + r⋅───(T(r)) + 2\n",
       "⎢   ⎜    dr       dr           ⎝dr      ⎠        2          \n",
       "⎢   ⎝                                          dr           \n",
       "⎢───────────────────────────────────────────────────────────\n",
       "⎢                                           r               \n",
       "⎢                                                           \n",
       "⎢                                                           \n",
       "⎢                                                           \n",
       "⎢                                                           \n",
       "⎢                                           0               \n",
       "⎢                                                           \n",
       "⎢                                                           \n",
       "⎢                                                           \n",
       "⎢                                                           \n",
       "⎢                                           0               \n",
       "⎢                                                           \n",
       "⎢                                                           \n",
       "⎢                                                           \n",
       "⎢                                           0               \n",
       "⎣                                                           \n",
       "\n",
       "         ⎞                                                  \n",
       " d       ⎟  -2⋅R(r) + 2⋅T(r)                                \n",
       "⋅──(T(r))⎟⋅ℯ                                                \n",
       " dr      ⎟                                                  \n",
       "         ⎠                                                  \n",
       "────────────────────────────                             0  \n",
       "                                                            \n",
       "                                                            \n",
       "                                                            \n",
       "                                                            \n",
       "                              d        d          ⎛d       ⎞\n",
       "                              ──(R(r))⋅──(T(r)) - ⎜──(T(r))⎟\n",
       "                              dr       dr         ⎝dr      ⎠\n",
       "                                                            \n",
       "                                                            \n",
       "                                                            \n",
       "                                                         0  \n",
       "                                                            \n",
       "                                                            \n",
       "                                                            \n",
       "                                                         0  \n",
       "                                                            \n",
       "\n",
       "                                                            \n",
       "                                                            \n",
       "                                                            \n",
       "                                                            \n",
       "                                                            \n",
       "                                                   0        \n",
       "                                                            \n",
       "                                                            \n",
       "                  d                                         \n",
       "2     2         2⋅──(R(r))                                  \n",
       "     d            dr                                        \n",
       "  - ───(T(r)) + ──────────                         0        \n",
       "      2             r                                       \n",
       "    dr                                                      \n",
       "                                                            \n",
       "                            ⎛  d            d           2⋅R(\n",
       "                            ⎜r⋅──(R(r)) - r⋅──(T(r)) + ℯ    \n",
       "                            ⎝  dr           dr              \n",
       "                                                            \n",
       "                                                            \n",
       "                                                   0        \n",
       "                                                            \n",
       "\n",
       "                                                            \n",
       "                                                            \n",
       "                                                            \n",
       "                                                            \n",
       "                                                            \n",
       "                                             0              \n",
       "                                                            \n",
       "                                                            \n",
       "                                                            \n",
       "                                                            \n",
       "                                                            \n",
       "                                             0              \n",
       "                                                            \n",
       "                                                            \n",
       "                                                            \n",
       "r)    ⎞  -2⋅R(r)                                            \n",
       "   - 1⎟⋅ℯ                                    0              \n",
       "      ⎠                                                     \n",
       "                                                            \n",
       "                  ⎛  d            d           2⋅R(r)    ⎞  -\n",
       "                  ⎜r⋅──(R(r)) - r⋅──(T(r)) + ℯ       - 1⎟⋅ℯ \n",
       "                  ⎝  dr           dr                    ⎠   \n",
       "\n",
       "              ⎤\n",
       "              ⎥\n",
       "              ⎥\n",
       "              ⎥\n",
       "              ⎥\n",
       "              ⎥\n",
       "              ⎥\n",
       "              ⎥\n",
       "              ⎥\n",
       "              ⎥\n",
       "              ⎥\n",
       "              ⎥\n",
       "              ⎥\n",
       "              ⎥\n",
       "              ⎥\n",
       "              ⎥\n",
       "              ⎥\n",
       "              ⎥\n",
       "              ⎥\n",
       "2⋅R(r)    2   ⎥\n",
       "      ⋅sin (θ)⎥\n",
       "              ⎦"
      ]
     },
     "execution_count": 29,
     "metadata": {},
     "output_type": "execute_result"
    }
   ],
   "source": [
    "rc.tensor()"
   ]
  },
  {
   "cell_type": "code",
   "execution_count": 86,
   "id": "615a96ad",
   "metadata": {},
   "outputs": [],
   "source": [
    "ricci_sk = RicciScalar.from_christoffels(ch)"
   ]
  },
  {
   "cell_type": "code",
   "execution_count": 87,
   "id": "b1ef73f2",
   "metadata": {},
   "outputs": [
    {
     "data": {
      "text/plain": [
       "RicciScalar2*(r**2*Derivative(R(r), r)*Derivative(T(r), r) - r**2*Derivative(T(r), r)**2 - r**2*Derivative(T(r), (r, 2)) + 2*r*Derivative(R(r), r) - 2*r*Derivative(T(r), r) + exp(2*R(r)) - 1)*exp(-2*R(r))/r**2"
      ]
     },
     "execution_count": 87,
     "metadata": {},
     "output_type": "execute_result"
    }
   ],
   "source": [
    "ricci_sk"
   ]
  },
  {
   "cell_type": "code",
   "execution_count": 34,
   "id": "76a7b81a",
   "metadata": {},
   "outputs": [
    {
     "data": {
      "image/png": "[encoded data removed]",
      "text/latex": [
       "$\\displaystyle \\frac{2 \\left(r^{2} \\frac{d}{d r} R{\\left(r \\right)} \\frac{d}{d r} T{\\left(r \\right)} - r^{2} \\left(\\frac{d}{d r} T{\\left(r \\right)}\\right)^{2} - r^{2} \\frac{d^{2}}{d r^{2}} T{\\left(r \\right)} + 2 r \\frac{d}{d r} R{\\left(r \\right)} - 2 r \\frac{d}{d r} T{\\left(r \\right)} + e^{2 R{\\left(r \\right)}} - 1\\right) e^{- 2 R{\\left(r \\right)}}}{r^{2}}$"
      ],
      "text/plain": [
       "  ⎛                                    2        2           \n",
       "  ⎜ 2 d        d           2 ⎛d       ⎞     2  d            \n",
       "2⋅⎜r ⋅──(R(r))⋅──(T(r)) - r ⋅⎜──(T(r))⎟  - r ⋅───(T(r)) + 2⋅\n",
       "  ⎜   dr       dr            ⎝dr      ⎠         2           \n",
       "  ⎝                                           dr            \n",
       "────────────────────────────────────────────────────────────\n",
       "                                                       2    \n",
       "                                                      r     \n",
       "\n",
       "                                       ⎞         \n",
       "  d              d           2⋅R(r)    ⎟  -2⋅R(r)\n",
       "r⋅──(R(r)) - 2⋅r⋅──(T(r)) + ℯ       - 1⎟⋅ℯ       \n",
       "  dr             dr                    ⎟         \n",
       "                                       ⎠         \n",
       "─────────────────────────────────────────────────\n",
       "                                                 \n",
       "                                                 "
      ]
     },
     "execution_count": 34,
     "metadata": {},
     "output_type": "execute_result"
    }
   ],
   "source": [
    "ricci_sk.tensor()"
   ]
  },
  {
   "cell_type": "code",
   "execution_count": 61,
   "id": "65f7ab41",
   "metadata": {},
   "outputs": [],
   "source": [
    "G1 = EinsteinTensor.from_metric(m)"
   ]
  },
  {
   "cell_type": "code",
   "execution_count": 65,
   "id": "58859288",
   "metadata": {},
   "outputs": [
    {
     "name": "stdout",
     "output_type": "stream",
     "text": [
      "Tensor EinsteinTensor\n",
      "[[0, 0, 0, 0], [0, 0, 0, 0], [0, 0, 0, 0], [0, 0, 0, 0]]\n"
     ]
    }
   ],
   "source": [
    "print(G1)"
   ]
  },
  {
   "cell_type": "code",
   "execution_count": 80,
   "id": "4509fcf7",
   "metadata": {},
   "outputs": [],
   "source": [
    "r, m = sp.symbols('r m')\n",
    "\n",
    "# Definir las funciones T(r) y R(r)\n",
    "T = (1/2) * sp.ln(1 - (2 * m / r))\n",
    "R = -(1/2) * sp.ln(1 - (2 * m / r))\n",
    "\n",
    "# Calcular las derivadas necesarias\n",
    "dT_dr = sp.diff(T, r)\n",
    "d2T_dr2 = sp.diff(dT_dr, r)\n",
    "dR_dr = sp.diff(R, r)"
   ]
  },
  {
   "cell_type": "code",
   "execution_count": 81,
   "id": "270b4ccb",
   "metadata": {},
   "outputs": [
    {
     "name": "stdout",
     "output_type": "stream",
     "text": [
      "R_rr = \n"
     ]
    },
    {
     "data": {
      "image/png": "[encoded data removed]",
      "text/latex": [
       "$\\displaystyle 0$"
      ],
      "text/plain": [
       "0"
      ]
     },
     "execution_count": 81,
     "metadata": {},
     "output_type": "execute_result"
    }
   ],
   "source": [
    "# Calculo de las derivadas\n",
    "R_rr = (\n",
    "    dR_dr * dT_dr -\n",
    "    dT_dr**2 -\n",
    "    d2T_dr2 +\n",
    "    2 * dR_dr / r\n",
    ")\n",
    "\n",
    "# Simplificar la expresión\n",
    "R_rr_simplified = sp.simplify(R_rr)\n",
    "\n",
    "print(\"R_rr = \")\n",
    "R_rr_simplified"
   ]
  },
  {
   "cell_type": "code",
   "execution_count": 85,
   "id": "9df5b1bf",
   "metadata": {},
   "outputs": [
    {
     "name": "stdout",
     "output_type": "stream",
     "text": [
      "R_t= t 0\n"
     ]
    }
   ],
   "source": [
    "R_tt = dR_dr * dT_dr - (dR_dr)**2 - d2T_dr2 + (2*dR_dr)/r\n",
    "R_tt_simplified = sp.simplify(R_tt)\n",
    "print(\"R_t= t\", R_tt_simplified)"
   ]
  }
 ],
 "metadata": {
  "kernelspec": {
   "display_name": "Python 3 (ipykernel)",
   "language": "python",
   "name": "python3"
  },
  "language_info": {
   "codemirror_mode": {
    "name": "ipython",
    "version": 3
   },
   "file_extension": ".py",
   "mimetype": "text/x-python",
   "name": "python",
   "nbconvert_exporter": "python",
   "pygments_lexer": "ipython3",
   "version": "3.10.11"
  }
 },
 "nbformat": 4,
 "nbformat_minor": 5
}
