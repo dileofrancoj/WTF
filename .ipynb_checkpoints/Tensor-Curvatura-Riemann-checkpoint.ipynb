{
 "cells": [
  {
   "cell_type": "code",
   "execution_count": 23,
   "id": "291e6db0",
   "metadata": {},
   "outputs": [],
   "source": [
    "import sympy\n",
    "from einsteinpy.symbolic import MetricTensor, ChristoffelSymbols, RiemannCurvatureTensor, RicciTensor\n",
    "import scipy\n",
    "from sympy import symbols, sin\n",
    "\n",
    "sympy.init_printing()  # enables the best printing available in an environment"
   ]
  },
  {
   "cell_type": "code",
   "execution_count": 60,
   "id": "314e0ed1",
   "metadata": {},
   "outputs": [],
   "source": [
    "# https://docs.einsteinpy.org/en/latest/examples/Symbolically%20Understanding%20Christoffel%20Symbol%20and%20Riemann%20Curvature%20Tensor%20using%20EinsteinPy.html"
   ]
  },
  {
   "cell_type": "code",
   "execution_count": 19,
   "id": "0fe0cdda",
   "metadata": {},
   "outputs": [
    {
     "data": {
      "text/latex": [
       "$\\displaystyle \\left[\\begin{matrix}- c^{2} e^{2 T{\\left(r \\right)}} & 0 & 0 & 0\\\\0 & e^{2 R{\\left(r \\right)}} & 0 & 0\\\\0 & 0 & r^{2} & 0\\\\0 & 0 & 0 & r^{2} \\sin^{2}{\\left(\\theta \\right)}\\end{matrix}\\right]$"
      ],
      "text/plain": [
       "⎡  2  2⋅T(r)                         ⎤\n",
       "⎢-c ⋅ℯ           0     0       0     ⎥\n",
       "⎢                                    ⎥\n",
       "⎢              2⋅R(r)                ⎥\n",
       "⎢     0       ℯ        0       0     ⎥\n",
       "⎢                                    ⎥\n",
       "⎢                       2            ⎥\n",
       "⎢     0          0     r       0     ⎥\n",
       "⎢                                    ⎥\n",
       "⎢                           2    2   ⎥\n",
       "⎣     0          0     0   r ⋅sin (θ)⎦"
      ]
     },
     "execution_count": 19,
     "metadata": {},
     "output_type": "execute_result"
    }
   ],
   "source": [
    "c = sympy.symbols('c')\n",
    "t, r, theta, phi = sympy.symbols('t r theta phi')\n",
    "\n",
    "# Definir las funciones T(r) y R(r)\n",
    "T = sympy.Function('T')(r)\n",
    "R = sympy.Function('R')(r)\n",
    "\n",
    "# Definir la métrica\n",
    "metric = [\n",
    "    [-c**2 * sympy.exp(2*T), 0, 0, 0], \n",
    "    [0, sympy.exp(2*R), 0, 0],\n",
    "    [0, 0, r**2, 0],\n",
    "    [0, 0, 0, r**2 * sympy.sin(theta)**2]\n",
    "]\n",
    "\n",
    "# Crear objeto MetricTensor\n",
    "syms = [t, r, theta, phi]\n",
    "m_obj = MetricTensor(metric, syms)\n",
    "\n",
    "# Mostrar la métrica\n",
    "m_obj.tensor()"
   ]
  },
  {
   "cell_type": "code",
   "execution_count": 20,
   "id": "87d5c444",
   "metadata": {},
   "outputs": [
    {
     "data": {
      "text/latex": [
       "$\\displaystyle \\left[\\begin{matrix}\\left[\\begin{matrix}0 & \\frac{d}{d r} T{\\left(r \\right)} & 0 & 0\\\\\\frac{d}{d r} T{\\left(r \\right)} & 0 & 0 & 0\\\\0 & 0 & 0 & 0\\\\0 & 0 & 0 & 0\\end{matrix}\\right] & \\left[\\begin{matrix}c^{2} e^{- 2 R{\\left(r \\right)}} e^{2 T{\\left(r \\right)}} \\frac{d}{d r} T{\\left(r \\right)} & 0 & 0 & 0\\\\0 & \\frac{d}{d r} R{\\left(r \\right)} & 0 & 0\\\\0 & 0 & - r e^{- 2 R{\\left(r \\right)}} & 0\\\\0 & 0 & 0 & - r e^{- 2 R{\\left(r \\right)}} \\sin^{2}{\\left(\\theta \\right)}\\end{matrix}\\right] & \\left[\\begin{matrix}0 & 0 & 0 & 0\\\\0 & 0 & \\frac{1}{r} & 0\\\\0 & \\frac{1}{r} & 0 & 0\\\\0 & 0 & 0 & - \\sin{\\left(\\theta \\right)} \\cos{\\left(\\theta \\right)}\\end{matrix}\\right] & \\left[\\begin{matrix}0 & 0 & 0 & 0\\\\0 & 0 & 0 & \\frac{1}{r}\\\\0 & 0 & 0 & \\frac{\\cos{\\left(\\theta \\right)}}{\\sin{\\left(\\theta \\right)}}\\\\0 & \\frac{1}{r} & \\frac{\\cos{\\left(\\theta \\right)}}{\\sin{\\left(\\theta \\right)}} & 0\\end{matrix}\\right]\\end{matrix}\\right]$"
      ],
      "text/plain": [
       "⎡                            ⎡ 2  -2⋅R(r)  2⋅T(r) d         \n",
       "⎢⎡          d             ⎤  ⎢c ⋅ℯ       ⋅ℯ      ⋅──(T(r))  \n",
       "⎢⎢   0      ──(T(r))  0  0⎥  ⎢                    dr        \n",
       "⎢⎢          dr            ⎥  ⎢                              \n",
       "⎢⎢                        ⎥  ⎢                              \n",
       "⎢⎢d                       ⎥  ⎢             0                \n",
       "⎢⎢──(T(r))     0      0  0⎥  ⎢                              \n",
       "⎢⎢dr                      ⎥  ⎢                              \n",
       "⎢⎢                        ⎥  ⎢                              \n",
       "⎢⎢   0         0      0  0⎥  ⎢             0                \n",
       "⎢⎢                        ⎥  ⎢                              \n",
       "⎢⎣   0         0      0  0⎦  ⎢                              \n",
       "⎣                            ⎣             0                \n",
       "\n",
       "                                          ⎤                 \n",
       "   0           0                0         ⎥  ⎡0  0  0       \n",
       "                                          ⎥  ⎢              \n",
       "                                          ⎥  ⎢      1       \n",
       "d                                         ⎥  ⎢0  0  ─       \n",
       "──(R(r))       0                0         ⎥  ⎢      r       \n",
       "dr                                        ⎥  ⎢              \n",
       "                                          ⎥  ⎢   1          \n",
       "              -2⋅R(r)                     ⎥  ⎢0  ─  0       \n",
       "   0      -r⋅ℯ                  0         ⎥  ⎢   r          \n",
       "                                          ⎥  ⎢              \n",
       "                           -2⋅R(r)    2   ⎥  ⎣0  0  0  -sin(\n",
       "   0           0       -r⋅ℯ       ⋅sin (θ)⎦                 \n",
       "\n",
       "            ⎡0  0    0       0   ⎤⎤\n",
       " 0       ⎤  ⎢                    ⎥⎥\n",
       "         ⎥  ⎢                1   ⎥⎥\n",
       "         ⎥  ⎢0  0    0       ─   ⎥⎥\n",
       " 0       ⎥  ⎢                r   ⎥⎥\n",
       "         ⎥  ⎢                    ⎥⎥\n",
       "         ⎥  ⎢              cos(θ)⎥⎥\n",
       "         ⎥  ⎢0  0    0     ──────⎥⎥\n",
       " 0       ⎥  ⎢              sin(θ)⎥⎥\n",
       "         ⎥  ⎢                    ⎥⎥\n",
       "         ⎥  ⎢   1  cos(θ)        ⎥⎥\n",
       "θ)⋅cos(θ)⎦  ⎢0  ─  ──────    0   ⎥⎥\n",
       "            ⎣   r  sin(θ)        ⎦⎦"
      ]
     },
     "execution_count": 20,
     "metadata": {},
     "output_type": "execute_result"
    }
   ],
   "source": [
    "ch = ChristoffelSymbols.from_metric(m_obj)\n",
    "ch.tensor()"
   ]
  },
  {
   "cell_type": "code",
   "execution_count": 25,
   "id": "73f63fbd",
   "metadata": {},
   "outputs": [],
   "source": [
    "# tensor de ricci\n",
    "rc = RicciTensor.from_christoffels(ch)"
   ]
  },
  {
   "cell_type": "code",
   "execution_count": 27,
   "id": "aa32fcd2",
   "metadata": {},
   "outputs": [
    {
     "data": {
      "text/latex": [
       "$\\displaystyle \\left[\\begin{matrix}\\frac{c^{2} \\left(- r \\frac{d}{d r} R{\\left(r \\right)} \\frac{d}{d r} T{\\left(r \\right)} + r \\left(\\frac{d}{d r} T{\\left(r \\right)}\\right)^{2} + r \\frac{d^{2}}{d r^{2}} T{\\left(r \\right)} + 2 \\frac{d}{d r} T{\\left(r \\right)}\\right) e^{- 2 R{\\left(r \\right)} + 2 T{\\left(r \\right)}}}{r} & 0 & 0 & 0\\\\0 & \\frac{d}{d r} R{\\left(r \\right)} \\frac{d}{d r} T{\\left(r \\right)} - \\left(\\frac{d}{d r} T{\\left(r \\right)}\\right)^{2} - \\frac{d^{2}}{d r^{2}} T{\\left(r \\right)} + \\frac{2 \\frac{d}{d r} R{\\left(r \\right)}}{r} & 0 & 0\\\\0 & 0 & \\left(r \\frac{d}{d r} R{\\left(r \\right)} - r \\frac{d}{d r} T{\\left(r \\right)} + e^{2 R{\\left(r \\right)}} - 1\\right) e^{- 2 R{\\left(r \\right)}} & 0\\\\0 & 0 & 0 & \\left(r \\frac{d}{d r} R{\\left(r \\right)} - r \\frac{d}{d r} T{\\left(r \\right)} + e^{2 R{\\left(r \\right)}} - 1\\right) e^{- 2 R{\\left(r \\right)}} \\sin^{2}{\\left(\\theta \\right)}\\end{matrix}\\right]$"
      ],
      "text/plain": [
       "⎡   ⎛                                    2       2          \n",
       "⎢ 2 ⎜    d        d            ⎛d       ⎞       d           \n",
       "⎢c ⋅⎜- r⋅──(R(r))⋅──(T(r)) + r⋅⎜──(T(r))⎟  + r⋅───(T(r)) + 2\n",
       "⎢   ⎜    dr       dr           ⎝dr      ⎠        2          \n",
       "⎢   ⎝                                          dr           \n",
       "⎢───────────────────────────────────────────────────────────\n",
       "⎢                                           r               \n",
       "⎢                                                           \n",
       "⎢                                                           \n",
       "⎢                                                           \n",
       "⎢                                                           \n",
       "⎢                                           0               \n",
       "⎢                                                           \n",
       "⎢                                                           \n",
       "⎢                                                           \n",
       "⎢                                                           \n",
       "⎢                                           0               \n",
       "⎢                                                           \n",
       "⎢                                                           \n",
       "⎢                                                           \n",
       "⎢                                           0               \n",
       "⎣                                                           \n",
       "\n",
       "         ⎞                                                  \n",
       " d       ⎟  -2⋅R(r) + 2⋅T(r)                                \n",
       "⋅──(T(r))⎟⋅ℯ                                                \n",
       " dr      ⎟                                                  \n",
       "         ⎠                                                  \n",
       "────────────────────────────                             0  \n",
       "                                                            \n",
       "                                                            \n",
       "                                                            \n",
       "                                                            \n",
       "                              d        d          ⎛d       ⎞\n",
       "                              ──(R(r))⋅──(T(r)) - ⎜──(T(r))⎟\n",
       "                              dr       dr         ⎝dr      ⎠\n",
       "                                                            \n",
       "                                                            \n",
       "                                                            \n",
       "                                                         0  \n",
       "                                                            \n",
       "                                                            \n",
       "                                                            \n",
       "                                                         0  \n",
       "                                                            \n",
       "\n",
       "                                                            \n",
       "                                                            \n",
       "                                                            \n",
       "                                                            \n",
       "                                                            \n",
       "                                                   0        \n",
       "                                                            \n",
       "                                                            \n",
       "                  d                                         \n",
       "2     2         2⋅──(R(r))                                  \n",
       "     d            dr                                        \n",
       "  - ───(T(r)) + ──────────                         0        \n",
       "      2             r                                       \n",
       "    dr                                                      \n",
       "                                                            \n",
       "                            ⎛  d            d           2⋅R(\n",
       "                            ⎜r⋅──(R(r)) - r⋅──(T(r)) + ℯ    \n",
       "                            ⎝  dr           dr              \n",
       "                                                            \n",
       "                                                            \n",
       "                                                   0        \n",
       "                                                            \n",
       "\n",
       "                                                            \n",
       "                                                            \n",
       "                                                            \n",
       "                                                            \n",
       "                                                            \n",
       "                                             0              \n",
       "                                                            \n",
       "                                                            \n",
       "                                                            \n",
       "                                                            \n",
       "                                                            \n",
       "                                             0              \n",
       "                                                            \n",
       "                                                            \n",
       "                                                            \n",
       "r)    ⎞  -2⋅R(r)                                            \n",
       "   - 1⎟⋅ℯ                                    0              \n",
       "      ⎠                                                     \n",
       "                                                            \n",
       "                  ⎛  d            d           2⋅R(r)    ⎞  -\n",
       "                  ⎜r⋅──(R(r)) - r⋅──(T(r)) + ℯ       - 1⎟⋅ℯ \n",
       "                  ⎝  dr           dr                    ⎠   \n",
       "\n",
       "              ⎤\n",
       "              ⎥\n",
       "              ⎥\n",
       "              ⎥\n",
       "              ⎥\n",
       "              ⎥\n",
       "              ⎥\n",
       "              ⎥\n",
       "              ⎥\n",
       "              ⎥\n",
       "              ⎥\n",
       "              ⎥\n",
       "              ⎥\n",
       "              ⎥\n",
       "              ⎥\n",
       "              ⎥\n",
       "              ⎥\n",
       "              ⎥\n",
       "              ⎥\n",
       "2⋅R(r)    2   ⎥\n",
       "      ⋅sin (θ)⎥\n",
       "              ⎦"
      ]
     },
     "execution_count": 27,
     "metadata": {},
     "output_type": "execute_result"
    }
   ],
   "source": [
    "rc.tensor()"
   ]
  }
 ],
 "metadata": {
  "kernelspec": {
   "display_name": "Python 3 (ipykernel)",
   "language": "python",
   "name": "python3"
  },
  "language_info": {
   "codemirror_mode": {
    "name": "ipython",
    "version": 3
   },
   "file_extension": ".py",
   "mimetype": "text/x-python",
   "name": "python",
   "nbconvert_exporter": "python",
   "pygments_lexer": "ipython3",
   "version": "3.10.11"
  }
 },
 "nbformat": 4,
 "nbformat_minor": 5
}
