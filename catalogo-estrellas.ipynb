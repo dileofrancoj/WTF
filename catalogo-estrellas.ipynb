{
 "cells": [
  {
   "cell_type": "code",
   "execution_count": 3,
   "id": "6b75bcc9-5430-4495-b5b1-02277843d896",
   "metadata": {},
   "outputs": [
    {
     "name": "stdout",
     "output_type": "stream",
     "text": [
      "Defaulting to user installation because normal site-packages is not writeable\n",
      "Collecting skyfield\n",
      "  Downloading skyfield-1.53-py3-none-any.whl.metadata (2.4 kB)\n",
      "Requirement already satisfied: certifi>=2017.4.17 in /Users/franco.dileo/Library/Python/3.9/lib/python/site-packages (from skyfield) (2025.1.31)\n",
      "Requirement already satisfied: jplephem>=2.13 in /Users/franco.dileo/Library/Python/3.9/lib/python/site-packages (from skyfield) (2.22)\n",
      "Requirement already satisfied: numpy in /Users/franco.dileo/Library/Python/3.9/lib/python/site-packages (from skyfield) (1.26.4)\n",
      "Collecting sgp4>=2.13 (from skyfield)\n",
      "  Downloading sgp4-2.24-cp39-cp39-macosx_11_0_arm64.whl.metadata (33 kB)\n",
      "Downloading skyfield-1.53-py3-none-any.whl (366 kB)\n",
      "Downloading sgp4-2.24-cp39-cp39-macosx_11_0_arm64.whl (161 kB)\n",
      "Installing collected packages: sgp4, skyfield\n",
      "Successfully installed sgp4-2.24 skyfield-1.53\n",
      "\n",
      "\u001b[1m[\u001b[0m\u001b[34;49mnotice\u001b[0m\u001b[1;39;49m]\u001b[0m\u001b[39;49m A new release of pip is available: \u001b[0m\u001b[31;49m25.0.1\u001b[0m\u001b[39;49m -> \u001b[0m\u001b[32;49m25.1.1\u001b[0m\n",
      "\u001b[1m[\u001b[0m\u001b[34;49mnotice\u001b[0m\u001b[1;39;49m]\u001b[0m\u001b[39;49m To update, run: \u001b[0m\u001b[32;49m/Library/Developer/CommandLineTools/usr/bin/python3 -m pip install --upgrade pip\u001b[0m\n",
      "Note: you may need to restart the kernel to use updated packages.\n"
     ]
    }
   ],
   "source": [
    "pip install skyfield"
   ]
  },
  {
   "cell_type": "code",
   "execution_count": 38,
   "id": "34f46000-7f7f-4fd8-a4c9-b617a3a21394",
   "metadata": {},
   "outputs": [
    {
     "ename": "FileNotFoundError",
     "evalue": "[Errno 2] No such file or directory: './hipparcos.dat'",
     "output_type": "error",
     "traceback": [
      "\u001b[0;31m---------------------------------------------------------------------------\u001b[0m",
      "\u001b[0;31mFileNotFoundError\u001b[0m                         Traceback (most recent call last)",
      "Cell \u001b[0;32mIn[38], line 18\u001b[0m\n\u001b[1;32m     15\u001b[0m observer \u001b[38;5;241m=\u001b[39m earth \u001b[38;5;241m+\u001b[39m Topos(latitude_degrees\u001b[38;5;241m=\u001b[39m\u001b[38;5;241m-\u001b[39m\u001b[38;5;241m34.6\u001b[39m, longitude_degrees\u001b[38;5;241m=\u001b[39m\u001b[38;5;241m-\u001b[39m\u001b[38;5;241m58.4\u001b[39m)\n\u001b[1;32m     17\u001b[0m \u001b[38;5;66;03m# Cargar catálogo de estrellas\u001b[39;00m\n\u001b[0;32m---> 18\u001b[0m df \u001b[38;5;241m=\u001b[39m load_dataframe(\u001b[43mload\u001b[49m\u001b[38;5;241;43m.\u001b[39;49m\u001b[43mopen\u001b[49m\u001b[43m(\u001b[49m\u001b[38;5;124;43m'\u001b[39;49m\u001b[38;5;124;43mhipparcos.dat\u001b[39;49m\u001b[38;5;124;43m'\u001b[39;49m\u001b[43m)\u001b[49m)\n\u001b[1;32m     20\u001b[0m \u001b[38;5;66;03m# Recibe argumento: nombre del objeto (planeta o estrella)\u001b[39;00m\n\u001b[1;32m     21\u001b[0m target_name \u001b[38;5;241m=\u001b[39m sys\u001b[38;5;241m.\u001b[39margv[\u001b[38;5;241m1\u001b[39m]\n",
      "File \u001b[0;32m~/Library/Python/3.9/lib/python/site-packages/skyfield/iokit.py:324\u001b[0m, in \u001b[0;36mLoader.open\u001b[0;34m(self, url, mode, reload, filename, backup)\u001b[0m\n\u001b[1;32m    322\u001b[0m     path_that_might_be_relative \u001b[38;5;241m=\u001b[39m url\n\u001b[1;32m    323\u001b[0m     path \u001b[38;5;241m=\u001b[39m os\u001b[38;5;241m.\u001b[39mpath\u001b[38;5;241m.\u001b[39mjoin(\u001b[38;5;28mself\u001b[39m\u001b[38;5;241m.\u001b[39mdirectory, path_that_might_be_relative)\n\u001b[0;32m--> 324\u001b[0m     \u001b[38;5;28;01mreturn\u001b[39;00m \u001b[38;5;28;43mopen\u001b[39;49m\u001b[43m(\u001b[49m\u001b[43mpath\u001b[49m\u001b[43m,\u001b[49m\u001b[43m \u001b[49m\u001b[43mmode\u001b[49m\u001b[43m)\u001b[49m\n\u001b[1;32m    326\u001b[0m \u001b[38;5;28;01mif\u001b[39;00m filename \u001b[38;5;129;01mis\u001b[39;00m \u001b[38;5;28;01mNone\u001b[39;00m:\n\u001b[1;32m    327\u001b[0m     filename \u001b[38;5;241m=\u001b[39m urlparse(url)\u001b[38;5;241m.\u001b[39mpath\u001b[38;5;241m.\u001b[39msplit(\u001b[38;5;124m'\u001b[39m\u001b[38;5;124m/\u001b[39m\u001b[38;5;124m'\u001b[39m)[\u001b[38;5;241m-\u001b[39m\u001b[38;5;241m1\u001b[39m]\n",
      "\u001b[0;31mFileNotFoundError\u001b[0m: [Errno 2] No such file or directory: './hipparcos.dat'"
     ]
    }
   ],
   "source": [
    "import sys\n",
    "from skyfield.api import load, Topos, Star\n",
    "from skyfield.data.hipparcos import load_dataframe\n",
    "\n",
    "def get_planet(name, planets):\n",
    "    try:\n",
    "        return planets[name]\n",
    "    except:\n",
    "        return None\n",
    "\n",
    "# Configuración general\n",
    "planets = load('de421.bsp')\n",
    "earth = planets['earth']\n",
    "t = load.timescale().now()\n",
    "observer = earth + Topos(latitude_degrees=-34.6, longitude_degrees=-58.4)\n",
    "\n",
    "# Cargar catálogo de estrellas\n",
    "# df = load_dataframe(load.open('hipparcos.dat'))\n",
    "\n",
    "# Recibe argumento: nombre del objeto (planeta o estrella)\n",
    "target_name = sys.argv[1]\n",
    "\n",
    "# Intenta buscar como planeta\n",
    "target = get_planet(target_name, planets)\n",
    "\n",
    "# Si no es planeta, intenta buscar como estrella\n",
    "\"\"\"\n",
    "if target is None:\n",
    "    target = get_star(target_name, df)\n",
    "\n",
    "\"\"\"\n",
    "# Si no encontró nada, salir con error\n",
    "if target is None:\n",
    "    print(\"error\")\n",
    "    sys.exit(1)\n",
    "\n",
    "# Calcular coordenadas\n",
    "astrometric = observer.at(t).observe(target)\n",
    "ra, dec, _ = astrometric.radec()\n",
    "\n",
    "# Mostrar coordenadas\n",
    "print(f\"{ra.hours},{dec.degrees}\")\n"
   ]
  },
  {
   "cell_type": "code",
   "execution_count": 22,
   "id": "71a5ff74-7df9-468d-950a-229dd3f44b77",
   "metadata": {},
   "outputs": [],
   "source": [
    "result = get_planet('JUPITER_BARYCENTER', planets)"
   ]
  },
  {
   "cell_type": "code",
   "execution_count": 24,
   "id": "4f928cfd-9be3-49ad-9cd0-335bdf19064c",
   "metadata": {},
   "outputs": [
    {
     "data": {
      "text/plain": [
       "<ChebyshevPosition 'de421.bsp' segment 0 SOLAR SYSTEM BARYCENTER -> 5 JUPITER BARYCENTER>"
      ]
     },
     "execution_count": 24,
     "metadata": {},
     "output_type": "execute_result"
    }
   ],
   "source": [
    "result"
   ]
  },
  {
   "cell_type": "code",
   "execution_count": 25,
   "id": "fdd2a2d1-2408-4ca3-9cc1-0ade4c9a3403",
   "metadata": {},
   "outputs": [],
   "source": [
    "# Calcular coordenadas\n",
    "astrometric = observer.at(t).observe(result)\n",
    "ra, dec, _ = astrometric.radec()"
   ]
  },
  {
   "cell_type": "code",
   "execution_count": 37,
   "id": "894ebc98-277e-46fa-aa72-11a9ff30d0d5",
   "metadata": {},
   "outputs": [
    {
     "data": {
      "text/plain": [
       "<Angle 06h 06m 19.31s>"
      ]
     },
     "execution_count": 37,
     "metadata": {},
     "output_type": "execute_result"
    }
   ],
   "source": [
    "ra"
   ]
  },
  {
   "cell_type": "code",
   "execution_count": 36,
   "id": "fe657517-1b23-4872-a580-d0474e16f830",
   "metadata": {},
   "outputs": [
    {
     "data": {
      "text/plain": [
       "<Angle +23deg 16' 40.1\">"
      ]
     },
     "execution_count": 36,
     "metadata": {},
     "output_type": "execute_result"
    }
   ],
   "source": [
    "dec"
   ]
  },
  {
   "cell_type": "code",
   "execution_count": 40,
   "id": "b0f777ee-b9b7-4fcb-93a4-d44721ef3c97",
   "metadata": {},
   "outputs": [
    {
     "data": {
      "text/plain": [
       "{0: ['SOLAR_SYSTEM_BARYCENTER', 'SSB', 'SOLAR SYSTEM BARYCENTER'],\n",
       " 1: ['MERCURY_BARYCENTER', 'MERCURY BARYCENTER'],\n",
       " 2: ['VENUS_BARYCENTER', 'VENUS BARYCENTER'],\n",
       " 3: ['EARTH_BARYCENTER',\n",
       "  'EMB',\n",
       "  'EARTH MOON BARYCENTER',\n",
       "  'EARTH-MOON BARYCENTER',\n",
       "  'EARTH BARYCENTER'],\n",
       " 4: ['MARS_BARYCENTER', 'MARS BARYCENTER'],\n",
       " 5: ['JUPITER_BARYCENTER', 'JUPITER BARYCENTER'],\n",
       " 6: ['SATURN_BARYCENTER', 'SATURN BARYCENTER'],\n",
       " 7: ['URANUS_BARYCENTER', 'URANUS BARYCENTER'],\n",
       " 8: ['NEPTUNE_BARYCENTER', 'NEPTUNE BARYCENTER'],\n",
       " 9: ['PLUTO_BARYCENTER', 'PLUTO BARYCENTER'],\n",
       " 10: ['SUN'],\n",
       " 199: ['MERCURY'],\n",
       " 299: ['VENUS'],\n",
       " 399: ['EARTH'],\n",
       " 301: ['MOON'],\n",
       " 499: ['MARS']}"
      ]
     },
     "execution_count": 40,
     "metadata": {},
     "output_type": "execute_result"
    }
   ],
   "source": [
    "planets.names()"
   ]
  },
  {
   "cell_type": "code",
   "execution_count": 43,
   "id": "d51c57ad-44c7-475a-a66f-8e9bedff5629",
   "metadata": {},
   "outputs": [
    {
     "name": "stdout",
     "output_type": "stream",
     "text": [
      "{0: ['SOLAR_SYSTEM_BARYCENTER', 'SSB', 'SOLAR SYSTEM BARYCENTER'], 1: ['MERCURY_BARYCENTER', 'MERCURY BARYCENTER'], 2: ['VENUS_BARYCENTER', 'VENUS BARYCENTER'], 3: ['EARTH_BARYCENTER', 'EMB', 'EARTH MOON BARYCENTER', 'EARTH-MOON BARYCENTER', 'EARTH BARYCENTER'], 4: ['MARS_BARYCENTER', 'MARS BARYCENTER'], 5: ['JUPITER_BARYCENTER', 'JUPITER BARYCENTER'], 6: ['SATURN_BARYCENTER', 'SATURN BARYCENTER'], 7: ['URANUS_BARYCENTER', 'URANUS BARYCENTER'], 8: ['NEPTUNE_BARYCENTER', 'NEPTUNE BARYCENTER'], 9: ['PLUTO_BARYCENTER', 'PLUTO BARYCENTER'], 10: ['SUN'], 199: ['MERCURY'], 299: ['VENUS'], 399: ['EARTH'], 301: ['MOON'], 499: ['MARS']}\n"
     ]
    }
   ],
   "source": [
    "print(planets.names())"
   ]
  },
  {
   "cell_type": "code",
   "execution_count": 46,
   "id": "4660ecc0-8cc2-4b22-a34f-a4eb21c9965b",
   "metadata": {},
   "outputs": [
    {
     "data": {
      "text/plain": [
       "<ChebyshevPosition 'de421.bsp' segment 0 SOLAR SYSTEM BARYCENTER -> 5 JUPITER BARYCENTER>"
      ]
     },
     "execution_count": 46,
     "metadata": {},
     "output_type": "execute_result"
    }
   ],
   "source": [
    "result"
   ]
  },
  {
   "cell_type": "code",
   "execution_count": 47,
   "id": "8e1304d4-024b-4ee1-bdbf-49490a700f3a",
   "metadata": {},
   "outputs": [],
   "source": [
    "import json"
   ]
  },
  {
   "cell_type": "code",
   "execution_count": 50,
   "id": "8b922bd4-63af-4c3a-a010-7dea7c1441e3",
   "metadata": {},
   "outputs": [
    {
     "name": "stdout",
     "output_type": "stream",
     "text": [
      "[0, 1, 2, 3, 4, 5, 6, 7, 8, 9, 10, 199, 299, 399, 301, 499]\n"
     ]
    }
   ],
   "source": [
    "print(json.dumps(list(planets.names())))"
   ]
  },
  {
   "cell_type": "code",
   "execution_count": 51,
   "id": "c3ea0af0-5ce5-40a8-b08b-289ab1eda762",
   "metadata": {},
   "outputs": [],
   "source": [
    "planet = load('de421.bsp')"
   ]
  },
  {
   "cell_type": "code",
   "execution_count": 53,
   "id": "b68be442-0155-4644-9e05-da92afc1c1a9",
   "metadata": {},
   "outputs": [
    {
     "data": {
      "text/plain": [
       "{0: ['SOLAR_SYSTEM_BARYCENTER', 'SSB', 'SOLAR SYSTEM BARYCENTER'],\n",
       " 1: ['MERCURY_BARYCENTER', 'MERCURY BARYCENTER'],\n",
       " 2: ['VENUS_BARYCENTER', 'VENUS BARYCENTER'],\n",
       " 3: ['EARTH_BARYCENTER',\n",
       "  'EMB',\n",
       "  'EARTH MOON BARYCENTER',\n",
       "  'EARTH-MOON BARYCENTER',\n",
       "  'EARTH BARYCENTER'],\n",
       " 4: ['MARS_BARYCENTER', 'MARS BARYCENTER'],\n",
       " 5: ['JUPITER_BARYCENTER', 'JUPITER BARYCENTER'],\n",
       " 6: ['SATURN_BARYCENTER', 'SATURN BARYCENTER'],\n",
       " 7: ['URANUS_BARYCENTER', 'URANUS BARYCENTER'],\n",
       " 8: ['NEPTUNE_BARYCENTER', 'NEPTUNE BARYCENTER'],\n",
       " 9: ['PLUTO_BARYCENTER', 'PLUTO BARYCENTER'],\n",
       " 10: ['SUN'],\n",
       " 199: ['MERCURY'],\n",
       " 299: ['VENUS'],\n",
       " 399: ['EARTH'],\n",
       " 301: ['MOON'],\n",
       " 499: ['MARS']}"
      ]
     },
     "execution_count": 53,
     "metadata": {},
     "output_type": "execute_result"
    }
   ],
   "source": [
    "planet.names()"
   ]
  }
 ],
 "metadata": {
  "kernelspec": {
   "display_name": "Python 3 (ipykernel)",
   "language": "python",
   "name": "python3"
  },
  "language_info": {
   "codemirror_mode": {
    "name": "ipython",
    "version": 3
   },
   "file_extension": ".py",
   "mimetype": "text/x-python",
   "name": "python",
   "nbconvert_exporter": "python",
   "pygments_lexer": "ipython3",
   "version": "3.9.6"
  }
 },
 "nbformat": 4,
 "nbformat_minor": 5
}
